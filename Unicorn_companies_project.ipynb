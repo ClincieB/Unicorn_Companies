{
 "cells": [
  {
   "cell_type": "code",
   "execution_count": 112,
   "metadata": {},
   "outputs": [],
   "source": [
    "#Importing Pandas to read the csv file within the next two lines. Importing datetime to have the current date and time. Then I am also importing matplotlib to plot my graphs. \n",
    "import pandas as pd\n",
    "import datetime\n",
    "from matplotlib import pyplot as plt"
   ]
  },
  {
   "cell_type": "code",
   "execution_count": 113,
   "metadata": {},
   "outputs": [],
   "source": [
    "#this is bringing in the csv file for project information. \n",
    "data = pd.read_csv(\"Unicorn_Companies.csv\")"
   ]
  },
  {
   "cell_type": "code",
   "execution_count": 114,
   "metadata": {},
   "outputs": [],
   "source": [
    "#Using this line of code to remove all the columns we don't need for the project to work. \n",
    "cleaned_data = data.drop(columns=[\"Portfolio Exits\" , \"Deal Terms\" , \"Investors Count\" , \"Financial Stage\", \"Total Raised\",\n",
    "\"Select Inverstors\", \"Industry\", \"City\", \"Country\", \"Date Joined\", \"Valuation ($B)\"])\n",
    "cleaned_data.loc[cleaned_data['Founded Year'] == 'None', 'Founded Year'] = 0\n",
    "cleaned_data = cleaned_data.astype({'Founded Year': 'int64'})"
   ]
  },
  {
   "cell_type": "code",
   "execution_count": 115,
   "metadata": {},
   "outputs": [
    {
     "data": {
      "text/html": [
       "<div>\n",
       "<style scoped>\n",
       "    .dataframe tbody tr th:only-of-type {\n",
       "        vertical-align: middle;\n",
       "    }\n",
       "\n",
       "    .dataframe tbody tr th {\n",
       "        vertical-align: top;\n",
       "    }\n",
       "\n",
       "    .dataframe thead th {\n",
       "        text-align: right;\n",
       "    }\n",
       "</style>\n",
       "<table border=\"1\" class=\"dataframe\">\n",
       "  <thead>\n",
       "    <tr style=\"text-align: right;\">\n",
       "      <th></th>\n",
       "      <th>Company</th>\n",
       "      <th>Founded Year</th>\n",
       "    </tr>\n",
       "  </thead>\n",
       "  <tbody>\n",
       "    <tr>\n",
       "      <th>0</th>\n",
       "      <td>Bytedance</td>\n",
       "      <td>2012</td>\n",
       "    </tr>\n",
       "    <tr>\n",
       "      <th>1</th>\n",
       "      <td>SpaceX</td>\n",
       "      <td>2002</td>\n",
       "    </tr>\n",
       "    <tr>\n",
       "      <th>2</th>\n",
       "      <td>Stripe</td>\n",
       "      <td>2010</td>\n",
       "    </tr>\n",
       "    <tr>\n",
       "      <th>3</th>\n",
       "      <td>Klarna</td>\n",
       "      <td>2005</td>\n",
       "    </tr>\n",
       "    <tr>\n",
       "      <th>4</th>\n",
       "      <td>Epic Games</td>\n",
       "      <td>1991</td>\n",
       "    </tr>\n",
       "  </tbody>\n",
       "</table>\n",
       "</div>"
      ],
      "text/plain": [
       "      Company  Founded Year\n",
       "0   Bytedance          2012\n",
       "1      SpaceX          2002\n",
       "2      Stripe          2010\n",
       "3      Klarna          2005\n",
       "4  Epic Games          1991"
      ]
     },
     "execution_count": 115,
     "metadata": {},
     "output_type": "execute_result"
    }
   ],
   "source": [
    "#This row checks our work to make sure the data has been cleaned to the point we need it to be. \n",
    "cleaned_data.head()\n"
   ]
  },
  {
   "cell_type": "code",
   "execution_count": 116,
   "metadata": {},
   "outputs": [
    {
     "data": {
      "text/plain": [
       "Company         object\n",
       "Founded Year     int64\n",
       "dtype: object"
      ]
     },
     "execution_count": 116,
     "metadata": {},
     "output_type": "execute_result"
    }
   ],
   "source": [
    "#This line is showing you that the outcome  \n",
    "cleaned_data.dtypes\n"
   ]
  },
  {
   "cell_type": "code",
   "execution_count": 117,
   "metadata": {},
   "outputs": [
    {
     "data": {
      "text/html": [
       "<div>\n",
       "<style scoped>\n",
       "    .dataframe tbody tr th:only-of-type {\n",
       "        vertical-align: middle;\n",
       "    }\n",
       "\n",
       "    .dataframe tbody tr th {\n",
       "        vertical-align: top;\n",
       "    }\n",
       "\n",
       "    .dataframe thead th {\n",
       "        text-align: right;\n",
       "    }\n",
       "</style>\n",
       "<table border=\"1\" class=\"dataframe\">\n",
       "  <thead>\n",
       "    <tr style=\"text-align: right;\">\n",
       "      <th></th>\n",
       "      <th>Company</th>\n",
       "      <th>Founded Year</th>\n",
       "      <th>age</th>\n",
       "    </tr>\n",
       "  </thead>\n",
       "  <tbody>\n",
       "    <tr>\n",
       "      <th>0</th>\n",
       "      <td>Bytedance</td>\n",
       "      <td>2012</td>\n",
       "      <td>10</td>\n",
       "    </tr>\n",
       "    <tr>\n",
       "      <th>1</th>\n",
       "      <td>SpaceX</td>\n",
       "      <td>2002</td>\n",
       "      <td>20</td>\n",
       "    </tr>\n",
       "    <tr>\n",
       "      <th>2</th>\n",
       "      <td>Stripe</td>\n",
       "      <td>2010</td>\n",
       "      <td>12</td>\n",
       "    </tr>\n",
       "    <tr>\n",
       "      <th>3</th>\n",
       "      <td>Klarna</td>\n",
       "      <td>2005</td>\n",
       "      <td>17</td>\n",
       "    </tr>\n",
       "    <tr>\n",
       "      <th>4</th>\n",
       "      <td>Epic Games</td>\n",
       "      <td>1991</td>\n",
       "      <td>31</td>\n",
       "    </tr>\n",
       "  </tbody>\n",
       "</table>\n",
       "</div>"
      ],
      "text/plain": [
       "      Company  Founded Year  age\n",
       "0   Bytedance          2012   10\n",
       "1      SpaceX          2002   20\n",
       "2      Stripe          2010   12\n",
       "3      Klarna          2005   17\n",
       "4  Epic Games          1991   31"
      ]
     },
     "execution_count": 117,
     "metadata": {},
     "output_type": "execute_result"
    }
   ],
   "source": [
    "#This line of code basically does math so I can have the ages of each company. \n",
    "cleaned_data['age'] = cleaned_data.apply(lambda row: datetime.datetime.now().date().year - row['Founded Year'], axis=1)\n",
    "cleaned_data.head()"
   ]
  },
  {
   "cell_type": "code",
   "execution_count": 118,
   "metadata": {},
   "outputs": [],
   "source": [
    "#This line clears out anything that is has none or not a number in the age column. \n",
    "cleaned_data = cleaned_data[cleaned_data['Founded Year'] != 0]"
   ]
  },
  {
   "cell_type": "code",
   "execution_count": 119,
   "metadata": {},
   "outputs": [
    {
     "data": {
      "image/png": "[encoded data removed]",
      "text/plain": [
       "<Figure size 864x432 with 1 Axes>"
      ]
     },
     "metadata": {},
     "output_type": "display_data"
    },
    {
     "data": {
      "text/plain": [
       "(1919.0, 2021.0)"
      ]
     },
     "execution_count": 119,
     "metadata": {},
     "output_type": "execute_result"
    },
    {
     "data": {
      "image/png": "[encoded data removed]",
      "text/plain": [
       "<Figure size 432x288 with 1 Axes>"
      ]
     },
     "metadata": {
      "needs_background": "light"
     },
     "output_type": "display_data"
    }
   ],
   "source": [
    "#This graph shows ages of companies it was hard to make it perfect due to the mulitude of how many there was. \n",
    "plt.figure(figsize = (12, 6), facecolor = \"purple\")\n",
    "plt.scatter(cleaned_data['Founded Year'], cleaned_data['age'], marker = 's', color = \"black\")\n",
    "plt.xlabel(\"Founded Year\", fontsize = 20, labelpad=10)\n",
    "plt.ylabel(\"Age\", fontsize = 20, labelpad=10)\n",
    "plt.grid(color = \"lightgrey\", linestyle = \"--\", linewidth = 1)\n",
    "plt.xticks(rotation=\"vertical\")\n",
    "plt.tick_params(axis = \"both\", labelsize = \"large\")\n",
    "plt.title(\"Unicorn Companies\", fontsize=30, loc = \"left\", fontstyle = \"oblique\", color = \"black\")\n",
    "plt.show()\n",
    "plt.xlim(min(cleaned_data['Founded Year']),max(cleaned_data['Founded Year']))\n"
   ]
  },
  {
   "cell_type": "code",
   "execution_count": 120,
   "metadata": {},
   "outputs": [
    {
     "data": {
      "text/plain": [
       "8.0"
      ]
     },
     "execution_count": 120,
     "metadata": {},
     "output_type": "execute_result"
    }
   ],
   "source": [
    "#With the Csv file we were able to find out the median,Mean,Mode.in the following lines (Continued) \n",
    "cleaned_data['age'].median()"
   ]
  },
  {
   "cell_type": "code",
   "execution_count": 121,
   "metadata": {},
   "outputs": [
    {
     "data": {
      "text/plain": [
       "9.289738430583501"
      ]
     },
     "execution_count": 121,
     "metadata": {},
     "output_type": "execute_result"
    }
   ],
   "source": [
    "#Mean \n",
    "cleaned_data['age'].mean()"
   ]
  },
  {
   "cell_type": "code",
   "execution_count": 122,
   "metadata": {},
   "outputs": [
    {
     "data": {
      "text/plain": [
       "0    7\n",
       "dtype: int64"
      ]
     },
     "execution_count": 122,
     "metadata": {},
     "output_type": "execute_result"
    }
   ],
   "source": [
    "#mode \n",
    "cleaned_data['age'].mode()"
   ]
  },
  {
   "cell_type": "code",
   "execution_count": 123,
   "metadata": {},
   "outputs": [
    {
     "data": {
      "text/html": [
       "<div>\n",
       "<style scoped>\n",
       "    .dataframe tbody tr th:only-of-type {\n",
       "        vertical-align: middle;\n",
       "    }\n",
       "\n",
       "    .dataframe tbody tr th {\n",
       "        vertical-align: top;\n",
       "    }\n",
       "\n",
       "    .dataframe thead th {\n",
       "        text-align: right;\n",
       "    }\n",
       "</style>\n",
       "<table border=\"1\" class=\"dataframe\">\n",
       "  <thead>\n",
       "    <tr style=\"text-align: right;\">\n",
       "      <th></th>\n",
       "      <th>Company</th>\n",
       "      <th>Founded Year</th>\n",
       "      <th>age</th>\n",
       "    </tr>\n",
       "  </thead>\n",
       "  <tbody>\n",
       "    <tr>\n",
       "      <th>0</th>\n",
       "      <td>Bytedance</td>\n",
       "      <td>2012</td>\n",
       "      <td>10</td>\n",
       "    </tr>\n",
       "    <tr>\n",
       "      <th>1</th>\n",
       "      <td>SpaceX</td>\n",
       "      <td>2002</td>\n",
       "      <td>20</td>\n",
       "    </tr>\n",
       "    <tr>\n",
       "      <th>2</th>\n",
       "      <td>Stripe</td>\n",
       "      <td>2010</td>\n",
       "      <td>12</td>\n",
       "    </tr>\n",
       "    <tr>\n",
       "      <th>3</th>\n",
       "      <td>Klarna</td>\n",
       "      <td>2005</td>\n",
       "      <td>17</td>\n",
       "    </tr>\n",
       "    <tr>\n",
       "      <th>4</th>\n",
       "      <td>Epic Games</td>\n",
       "      <td>1991</td>\n",
       "      <td>31</td>\n",
       "    </tr>\n",
       "    <tr>\n",
       "      <th>...</th>\n",
       "      <td>...</td>\n",
       "      <td>...</td>\n",
       "      <td>...</td>\n",
       "    </tr>\n",
       "    <tr>\n",
       "      <th>1032</th>\n",
       "      <td>Timescale</td>\n",
       "      <td>2015</td>\n",
       "      <td>7</td>\n",
       "    </tr>\n",
       "    <tr>\n",
       "      <th>1033</th>\n",
       "      <td>Scalapay</td>\n",
       "      <td>2019</td>\n",
       "      <td>3</td>\n",
       "    </tr>\n",
       "    <tr>\n",
       "      <th>1034</th>\n",
       "      <td>Omada Health</td>\n",
       "      <td>2011</td>\n",
       "      <td>11</td>\n",
       "    </tr>\n",
       "    <tr>\n",
       "      <th>1035</th>\n",
       "      <td>BlueVoyant</td>\n",
       "      <td>2017</td>\n",
       "      <td>5</td>\n",
       "    </tr>\n",
       "    <tr>\n",
       "      <th>1036</th>\n",
       "      <td>Veev</td>\n",
       "      <td>2008</td>\n",
       "      <td>14</td>\n",
       "    </tr>\n",
       "  </tbody>\n",
       "</table>\n",
       "<p>992 rows × 3 columns</p>\n",
       "</div>"
      ],
      "text/plain": [
       "           Company  Founded Year  age\n",
       "0        Bytedance          2012   10\n",
       "1           SpaceX          2002   20\n",
       "2           Stripe          2010   12\n",
       "3           Klarna          2005   17\n",
       "4       Epic Games          1991   31\n",
       "...            ...           ...  ...\n",
       "1032     Timescale          2015    7\n",
       "1033      Scalapay          2019    3\n",
       "1034  Omada Health          2011   11\n",
       "1035    BlueVoyant          2017    5\n",
       "1036          Veev          2008   14\n",
       "\n",
       "[992 rows x 3 columns]"
      ]
     },
     "execution_count": 123,
     "metadata": {},
     "output_type": "execute_result"
    }
   ],
   "source": [
    "#this line brings up any company under the age of 46 \n",
    "cleaned_data[cleaned_data['age'] <46]"
   ]
  },
  {
   "cell_type": "code",
   "execution_count": 127,
   "metadata": {},
   "outputs": [
    {
     "data": {
      "image/png": "[encoded data removed]",
      "text/plain": [
       "<Figure size 864x432 with 1 Axes>"
      ]
     },
     "metadata": {},
     "output_type": "display_data"
    }
   ],
   "source": [
    "#This Graph shows the first 5 companies on the Unicorn csv file. \n",
    "plt.figure(figsize = (12, 6), facecolor = \"yellow\")\n",
    "plt.plot(cleaned_data['age'].head(), cleaned_data['Company'].head(), marker = 's', color = \"black\") \n",
    "plt.xlabel(\"Age\", fontsize = 20, labelpad=10)\n",
    "plt.ylabel(\"Company\", fontsize = 20, labelpad=10) \n",
    "plt.grid(color = \"lightgrey\", linestyle = \"--\", linewidth = 3)\n",
    "plt.xticks( rotation=\"vertical\")\n",
    "plt.tick_params(axis = \"both\", labelsize = \"large\")\n",
    "plt.title(\"Company ages\", fontsize=30, loc = \"left\", fontstyle = \"oblique\", color = \"darkgreen\")\n",
    "plt.show()\n"
   ]
  },
  {
   "cell_type": "code",
   "execution_count": 125,
   "metadata": {},
   "outputs": [],
   "source": [
    "#In conclusion I have learned quite a bit. Just in this project alone I learned there is at least over 1000 Unicorn Companies and according to \n",
    "#investopedia anything defined as a Unicorn Company is an business refers to a startup company with a value of over $1 billion. Now with python \n",
    "#I learned some difficult things and honestly it took help to get some of these things such as Matplotlib and how to erase columns I no longer \n",
    "#need. I learned things like for loops and fuctions, I learned how to research things I didn't understand. I also learned to ask for help too. \n",
    "#So in short I never had a day I didn't try something new and read. I also know I will be practicing before this next session too. "
   ]
  }
 ],
 "metadata": {
  "kernelspec": {
   "display_name": "Python 3.9.7 ('base')",
   "language": "python",
   "name": "python3"
  },
  "language_info": {
   "codemirror_mode": {
    "name": "ipython",
    "version": 3
   },
   "file_extension": ".py",
   "mimetype": "text/x-python",
   "name": "python",
   "nbconvert_exporter": "python",
   "pygments_lexer": "ipython3",
   "version": "3.9.7"
  },
  "orig_nbformat": 4,
  "vscode": {
   "interpreter": {
    "hash": "28c3c07dbfa0a0a8c363b521cab72e0f0f79256e5b871f279d0c1cfb9cfc3202"
   }
  }
 },
 "nbformat": 4,
 "nbformat_minor": 2
}
